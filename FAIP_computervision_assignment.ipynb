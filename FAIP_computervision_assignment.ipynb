{
  "nbformat": 4,
  "nbformat_minor": 0,
  "metadata": {
    "colab": {
      "provenance": [],
      "include_colab_link": true
    },
    "kernelspec": {
      "name": "python3",
      "display_name": "Python 3"
    },
    "language_info": {
      "name": "python"
    }
  },
  "cells": [
    {
      "cell_type": "markdown",
      "metadata": {
        "id": "view-in-github",
        "colab_type": "text"
      },
      "source": [
        "<a href=\"https://colab.research.google.com/github/seyrankhademi/FAIP/blob/main/FAIP_computervision_assignment.ipynb\" target=\"_parent\"><img src=\"https://colab.research.google.com/assets/colab-badge.svg\" alt=\"Open In Colab\"/></a>"
      ]
    },
    {
      "cell_type": "markdown",
      "source": [
        "# **Introduction to Computer Vision - Assignment**\n",
        "\n",
        "---\n",
        "---\n",
        "This is an assignment notebook for computer vision as part of the Fundamentals of Artificial Intelligence Programme (2022/23 Q1). The objective of the assignment is to \n",
        "\n",
        "*   Apply convolutional neural networks (CNN) to custom data for classification task  \n",
        "*   Analyse the output of the pre-trained model \n",
        "*   Adjust the test data to the training data\n",
        "*   Adjust the CNN architecture to improve the accuracy   \n",
        "*   Re-train a simple CNN model on the MNIST dataset \n",
        "\n",
        "## **Instructions**\n",
        "* Explore the [tutorial notebook](https://colab.research.google.com/drive/1uYtCscZCfgfzZb0q9Uq9k6NC-SpSB8bT?usp=sharing) before doing the assignment. You need to reuse the codes explained in the tutorial, for your assignment.   \n",
        "* Insert code cells you need, in this notebook and execute them to see the results.\n",
        "* Create text cells to explain each step in the assignment. \n",
        "* Print the notebook as a pdf file and save it with your group id/name for the submission as \"FAIP_computervision_assignment_groupid\".\n",
        " "
      ],
      "metadata": {
        "id": "aNgTYB1kr89q"
      }
    },
    {
      "cell_type": "markdown",
      "source": [
        " # **Assignment**\n",
        " ---\n",
        "  \n",
        "\n",
        "1.  Take a pen and paper and write 10 digits on the paper (try to write carelessly!).\n",
        "2.  Take a photo of the written digits separately to create MNIST-like data samples. \n",
        "3.  Upload the 10-digit images into your google drive or publicly available storage space. \n",
        "4. Use our trained MNIST model (from the tutorial) to predict your handwritten digits. \n",
        "5. Calculate the accuracy of the model on your 10 samples.\n",
        "6. Are the accuracy comparable with the validation accuracy on the MNIST test set? \n",
        "7. Re-train the model with more epochs \n",
        "8. Recalculate the accuracy of your generated data. Does it make a difference?\n",
        "9. Add another convolutional layer before the fully connected layer and retrain the model.\n",
        "10. repeat step 8 \n",
        "\n",
        "## **Tips**:\n",
        "- The model is trained on images with values between 0 and 1, make sure to normalize your images to this range\n",
        "- Try to preprocess your images so that they look similar to an MNIST image for better matching of test data to the training data\n",
        "\n"
      ],
      "metadata": {
        "id": "Ltfp1gIT7JAq"
      }
    }
  ]
}